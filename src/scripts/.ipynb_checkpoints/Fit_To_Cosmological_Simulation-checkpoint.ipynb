{
 "cells": [
  {
   "cell_type": "markdown",
   "metadata": {},
   "source": [
    "# Function to fit our analytical model to the SF-gas from TNG\n",
    "\n",
    "Our fit procedure is also described in section 3 of van son et al in prep.\n",
    "\n",
    "\n"
   ]
  },
  {
   "cell_type": "code",
   "execution_count": 225,
   "metadata": {},
   "outputs": [],
   "source": [
    "import h5py as h5\n",
    "import numpy as np\n",
    "import matplotlib.pyplot as plt\n",
    "import astropy.units as u\n",
    "\n",
    "from scipy import interpolate\n",
    "from scipy.optimize import minimize\n",
    "\n",
    "# from astropy.cosmology import WMAP9, z_at_value\n",
    "from astropy.cosmology import Planck18  as cosmo# Planck 2018\n",
    "from astropy.cosmology import z_at_value\n",
    "\n",
    "############################\n",
    "# Custom scripts\n",
    "import get_ZdepSFRD as Z_SFRD\n",
    "import importlib\n",
    "import paths\n",
    "\n",
    "Cosmol_sim_location = paths.data / \"SFRMetallicityFromGasTNG100.hdf5\"\n"
   ]
  },
  {
   "cell_type": "markdown",
   "metadata": {},
   "source": [
    "# First read the data that you want to fit to\n",
    "***\n",
    "We will have simulation data == TNG in our case\n",
    "Make sure to convert it to a SFDR in Msun/yr/Mpc^-3\n",
    "\n",
    "model data  == our analytical function\n",
    "\n",
    "## Make sure you provide at least:\n",
    "\n",
    "- Sim_SFRD = SFRD(z,Z)/($\\Delta$Z), in $\\rm{M}_{\\odot} \\rm{Mpc}^{-3}$\n",
    "- MetalBins, in metallicity $Z$\n",
    "- Lookbacktimes, in $\\rm{Gyr}$\n",
    "\n",
    "It is important that you provide the SFRD per dZ bin!! Otherwise your fit will be bin dependent, which is not what you want.. \n",
    "\n"
   ]
  },
  {
   "cell_type": "code",
   "execution_count": 239,
   "metadata": {},
   "outputs": [],
   "source": [
    "##########################################\n",
    "# Observational (Chruslinska data)\n",
    "##########################################\n",
    "def solar_metallicity_scales():\n",
    "    Asplund09=[0.0134,8.69]\n",
    "    AndersGrevesse89=[0.017,8.83]\n",
    "    GrevesseSauval98=[0.0201,8.93]\n",
    "    Villante14=[0.019,8.85]\n",
    "    scale_ref=np.array(['Asplund09','AndersGrevesse89','GrevesseSauval98','Villante14'])\n",
    "    Z_FOH_solar=np.array([Asplund09,AndersGrevesse89,GrevesseSauval98,Villante14])\n",
    "    return scale_ref, Z_FOH_solar\n",
    "\n",
    "\n",
    "##########################\n",
    "def FOH2ZZ(foh,solar_Z_scale='AndersGrevesse89'):\n",
    "    '''convert from 12+log[O/H] to ZZ'''\n",
    "    scale_ref, Z_FOH_solar=solar_metallicity_scales()\n",
    "    idx=np.where(scale_ref==solar_Z_scale)[0][0]\n",
    "    Zsun,FOHsun = Z_FOH_solar[idx]    \n",
    "    logZ = np.log10(Zsun) + foh - FOHsun\n",
    "    ZZ=10**logZ\n",
    "    return ZZ\n",
    "\n",
    "\n",
    "#read low Z data\n",
    "low_Z_file = '204'+ 'f14SB'+'Boco'+ '_FMR270'+ '_FOH_z_dM.dat'\n",
    "\n",
    "data_dir   = str(paths.data)+'/SFRD_Z_z_data/' \n",
    "zmin, zmax = 0., 10.\n",
    "\n",
    "#(array) oxygen to hydrogen abundance ratio ( FOH == 12 + log(O/H) )\n",
    "# as used in the calculations - do not change\n",
    "FOH_min, FOH_max = 5.3, 9.7\n",
    "FOH_arr = np.linspace( FOH_min,FOH_max, 200)\n",
    "dFOH=FOH_arr[1]-FOH_arr[0]\n",
    "\n",
    "#read time, redshift and timestep as used in the calculations\n",
    "#starts at the highest redshift (z=z_start=10) and goes to z=0\n",
    "time, redshift_global, delt = np.loadtxt(data_dir +'Time_redshift_deltaT.dat',unpack=True) \n",
    "#reading mass per unit (comoving) volume formed in each z (row) - FOH (column) bin\n",
    "data=np.loadtxt(data_dir + low_Z_file )\n",
    "image_data=np.array( [data[ii]/(1e6*delt[ii]) for ii in range(len(delt))] )#fill the array with SFRD(FOH,z)\n",
    "redshift=redshift_global\n",
    "\n",
    "image_data/=dFOH\n",
    "\n",
    "# np.log10(Z_array/ZsunTNG), lowZ_image[min_diff_i,:] ,\n",
    "# lowZ_image, redshift, delt \n",
    "\n",
    "Sim_center_Zbin  = FOH2ZZ(FOH_arr,solar_Z_scale='AndersGrevesse89')\n",
    "Lookbacktimes    = [cosmo.lookback_time(z).value for z in redshift]\n",
    "Sim_SFRD         = image_data\n",
    "\n",
    "\n",
    "# print('MetalBins', np.log10(MetalBins))\n"
   ]
  },
  {
   "cell_type": "code",
   "execution_count": null,
   "metadata": {},
   "outputs": [],
   "source": []
  },
  {
   "cell_type": "code",
   "execution_count": 201,
   "metadata": {},
   "outputs": [],
   "source": [
    "##########################################\n",
    "# Simulated SFRD data (from TNG)\n",
    "##########################################\n",
    "## Read in the pure simulation data\n",
    "with h5.File(Cosmol_sim_location, \"r\") as f:\n",
    "    MetalBins     = f[\"MetalBins\"][:]\n",
    "    Lookbacktimes = f[\"Lookbacktimes\"][:]\n",
    "    BoxSfr        = f[\"Sfr\"][:]\n",
    "    \n",
    "Sim_center_Zbin  = (MetalBins[:-1] + MetalBins[1:])/2.\n",
    "    \n",
    "# Convert SFR from sfr/box to sfr Mpc-3\n",
    "littleh  = 0.6774\n",
    "Rbox     = 75/littleh\n",
    "Sim_SFRD = BoxSfr / Rbox**3 *u.Mpc**-3\n",
    "Sim_SFRD = Sim_SFRD.value\n",
    "\n",
    "## The model comes in SFRD/DeltaZ, make sure your data does as well!! \n",
    "step_fit_logZ  = np.diff(np.log(MetalBins))[0]    \n",
    "Sim_SFRD       = Sim_SFRD/step_fit_logZ\n"
   ]
  },
  {
   "cell_type": "markdown",
   "metadata": {},
   "source": [
    "\n",
    "### Now we're going to make some cuts \n",
    "\n",
    "Because the minimum metallicity in COMPAS is 10^-4, there is no use in fitting to the 10^-7 metallicity tail.\n",
    "\n",
    "This cuts out the \"POP-III\" star formation that is happening at 10^-7 in the cosmological simulation. Since we don't capture this kind of stellar evolution in the pop-synth, we don't want to skew our distribution to try and capture that\n"
   ]
  },
  {
   "cell_type": "code",
   "execution_count": 240,
   "metadata": {},
   "outputs": [],
   "source": [
    "minZ_popSynth    =  1e-6\n",
    "## Adjust what metallicities to include \n",
    "tofit_Sim_metals = Sim_center_Zbin[np.where(Sim_center_Zbin > minZ_popSynth)[0]]   \n",
    "\n",
    "## Reverse the time axis of the SFRD and lookback time for the fit\n",
    "tofit_Sim_SFRD      = Sim_SFRD[:,np.where(Sim_center_Zbin > minZ_popSynth)[0]][::-1]\n",
    "tofit_Sim_lookbackt = Lookbacktimes[::-1] \n",
    "\n",
    "## Convert lookback times to redshifts\n",
    "# the last value of Lookbacktimes = 0, which is problematic for z calculation\n",
    "redshifts_Sim = [z_at_value(cosmo.lookback_time,t*u.Gyr) for t in Lookbacktimes[:-1]] \n",
    "redshifts_Sim.append(0) # put redshift zero back at the end\n",
    "redshifts_Sim = np.array(redshifts_Sim)\n"
   ]
  },
  {
   "cell_type": "markdown",
   "metadata": {},
   "source": [
    "## Interpolate the fit data\n",
    "\n",
    "To ensure that we have a nice and smooth set to compare to \n",
    "\n",
    "Using scipy interpolate\n",
    "https://docs.scipy.org/doc/scipy/reference/generated/scipy.interpolate.interp2d.html\n",
    "\n",
    "f = interpolate.interp2d(x, y, z)\n",
    "\n"
   ]
  },
  {
   "cell_type": "code",
   "execution_count": 241,
   "metadata": {},
   "outputs": [],
   "source": [
    "#########################################\n",
    "# Interpolate the simulation data\n",
    "f_interp = interpolate.interp2d(tofit_Sim_lookbackt, tofit_Sim_metals, tofit_Sim_SFRD.T, kind='cubic')\n",
    "\n",
    "#########################################\n",
    "# Retrieve values at higher res regular intervals\n",
    "redshift_new         = np.arange(0, 10.1, 0.05)\n",
    "Lookbacktimes_new    = [cosmo.lookback_time(z).value for z in redshift_new]\n",
    "\n",
    "log_tofit_Sim_metals = np.log10(tofit_Sim_metals)\n",
    "metals_new           = np.logspace(min(log_tofit_Sim_metals), max(log_tofit_Sim_metals), 100)\n",
    "\n",
    "SFRDnew = f_interp(Lookbacktimes_new,metals_new)\n"
   ]
  },
  {
   "cell_type": "code",
   "execution_count": 242,
   "metadata": {
    "scrolled": false
   },
   "outputs": [],
   "source": [
    "##################################################\n",
    "# muz =-0.09, mu0 =0.026, sigma =1.9, alpha=-3.3\n",
    "##################################################\n",
    "def calc_chi_square(fit_metals, Redshifts = [],  simulation_SFRD = [],\n",
    "                    mu_0  = 0.026, muz  =-0.09, sigma0  = 1.9, sigmaz  = 1.9, alpha =-3.3,\n",
    "                    sf_a =0.01 , sf_b=2.6, sf_c=3.2 , sf_d=6.2):\n",
    "    \"\"\"\n",
    "    Calculate the aquared residual of your simulation_SFRD vs your analytical model.\n",
    "    Args:\n",
    "        fit_metals        --> [float]          metals used for fitt\n",
    "        Redshifts         --> [float]          redshihts used to fit\n",
    "        simulation_SFRD   --> [float]          cosmological simulation data to fit to\n",
    "        \n",
    "        # metallicity distribution parameters (skew-log-normal)\n",
    "        mu_0              --> [float]          location (mean in normal) at redshift 0\n",
    "        muz               --> [float]          redshift evolution of the location\n",
    "        sigma0            --> [float]          Scale at redshift 0 (variance in normal)\n",
    "        sigmaz            --> [float]          redshift evolution of Scale (variance in normal)\n",
    "        alpha             --> [float]          shape (skewness, alpha = 0 retrieves normal dist)\n",
    "        # overall SFR parameters\n",
    "        sf_a              --> [float]          SFR(z) parameter (shape of Madau & Dickenson 2014)\n",
    "        sf_b              --> [float]          SFR(z) parameter (shape of Madau & Dickenson 2014)\n",
    "        sf_c              --> [float]          SFR(z) parameter (shape of Madau & Dickenson 2014)\n",
    "        sf_d              --> [float]          SFR(z) parameter (shape of Madau & Dickenson 2014)\n",
    "\n",
    "    Returns:\n",
    "        tot_chi_square    --> [float ] \n",
    "\n",
    "    \"\"\" \n",
    "    #####################################\n",
    "    # Get the SFR (Shape of Madau & Fragos 2014)\n",
    "    sfr = Z_SFRD.Madau_Dickinson2014(Redshifts, a=sf_a, b=sf_b, c=sf_c, d=sf_d).value # Msun year-1 Mpc-3 \n",
    "    # Get dPdZ (skew-log-normal distribution)\n",
    "    dPdlogZ, metallicities, step_logZ, p_draw_metallicity = \\\n",
    "                    Z_SFRD.skew_metallicity_distribution(Redshifts,mu_z = muz , mu_0 = mu_0 ,\n",
    "                                                  omega_0= sigma0 , omega_z=sigmaz , alpha = alpha , \n",
    "                                                  metals=fit_metals)\n",
    "    \n",
    "    ######################################\n",
    "    data           = simulation_SFRD                # Model comes in dP/dlogZ, so should your sim-data \n",
    "    model          = sfr[:,np.newaxis] * dPdlogZ \n",
    "\n",
    "    # The square of the residuals\n",
    "    res_squared = ((data - model )**2)\n",
    "    # Divide over the sum of the model at each redshift,\n",
    "    # reduces contribution from high sfr redshifts & increases the weight where sfr is low\n",
    "    chi_square = res_squared/np.sum(model, axis = 1)[:,np.newaxis]\n",
    "    \n",
    "    # Return sum Chi_squared and the max squared residual\n",
    "    return np.sum(chi_square), np.amax(res_squared)\n",
    "\n",
    "\n",
    "    \n",
    "    "
   ]
  },
  {
   "cell_type": "markdown",
   "metadata": {},
   "source": [
    "# Run your chi square calculations\n",
    "\n",
    "## and leave the refinement up to scipy minimize"
   ]
  },
  {
   "cell_type": "code",
   "execution_count": 243,
   "metadata": {
    "scrolled": true
   },
   "outputs": [],
   "source": [
    "#################################################################\n",
    "## Function wrapper to minimize the Chi_square\n",
    "#################################################################\n",
    "def test_chi(x0 = [-0.09, 0.026, 1.9, 0.1, -3.3, 0.01, 2.6, 3.2, 6.2] ):\n",
    "    chi_square, max_res_square = calc_chi_square(metals_new, Redshifts = redshift_new, simulation_SFRD = SFRDnew.T, \n",
    "                                       muz  =x0[0], mu_0  =x0[1],sigma0  =x0[2], sigmaz =x0[3], alpha  =x0[4],\n",
    "                                       sf_a =x0[5], sf_b=x0[6], sf_c=x0[7], sf_d=x0[8])\n",
    "    return chi_square\n",
    "\n",
    "# BEST GUESS\n",
    "# x0 = np.array([-0.15, 0.026, 1.1, 0.1, -3.3, 0.01, 2.6, 3.2, 6.2])\n",
    "x0 = np.array([-0.15, 0.026, 1.1, 0.1, -5.3, 0.005, 1., 3, 6])\n",
    "# FIT\n",
    "res = minimize(test_chi, x0= x0, method ='nelder-mead',\n",
    "               options = {'maxiter': 5000}, bounds = bnds)\n",
    "\n"
   ]
  },
  {
   "cell_type": "code",
   "execution_count": 244,
   "metadata": {},
   "outputs": [
    {
     "name": "stdout",
     "output_type": "stream",
     "text": [
      "True Optimization terminated successfully. N iterations:  1393\n",
      "\n",
      "BEST FITTING PARAMETERS:\n",
      "muz =-0.04545720706611225, mu0 =0.009521681084746773, sigma_0 =1.0780482975933046, sigma_z =0.039910421760746065, alpha=-5.014746137754878\n",
      "sf_a =0.01824759583515829, sf_b =2.9086449034344444, sf_c =3.018863115660491, sf_d =5.767052164598724\n",
      "chi_square 0.23297244261847583 max_res_square 0.0009475744065590888\n"
     ]
    }
   ],
   "source": [
    "print(res.success, res.message, 'N iterations: ', res.nit)\n",
    "muz_best, mu0_best, sigma0_best, sigmaz_best, alpha_best = res.x[0], res.x[1], res.x[2], res.x[3],res.x[4]\n",
    "sf_a_best, sf_b_best, sf_c_best, sf_d_best               = res.x[5], res.x[6], res.x[7], res.x[8] \n",
    "\n",
    "print('\\nBEST FITTING PARAMETERS:')\n",
    "print('muz =%s, mu0 =%s, sigma_0 =%s, sigma_z =%s, alpha=%s'% (muz_best, mu0_best, sigma0_best, sigmaz_best, alpha_best) )\n",
    "print('sf_a =%s, sf_b =%s, sf_c =%s, sf_d =%s'% (sf_a_best, sf_b_best, sf_c_best, sf_d_best) )\n",
    "\n",
    "chi_square, max_res_square = calc_chi_square(metals_new, Redshifts = redshift_new, simulation_SFRD = SFRDnew.T, \n",
    "                                   muz =muz_best, mu_0 =mu0_best,sigma0 =sigma0_best, sigmaz=sigmaz_best,alpha=alpha_best,\n",
    "                                   sf_a =sf_a_best, sf_b=sf_b_best, sf_c=sf_c_best, sf_d=sf_d_best)\n",
    "print('chi_square',chi_square, 'max_res_square', max_res_square)\n"
   ]
  },
  {
   "cell_type": "code",
   "execution_count": 245,
   "metadata": {},
   "outputs": [],
   "source": [
    "if res.success:\n",
    "    np.savetxt(paths.data / 'MartynaLOWZ_best_fit_parameters.txt', #MartynaLOWZ\n",
    "               np.c_[mu0_best, muz_best, sigma0_best, sigmaz_best, alpha_best,sf_a_best, sf_b_best, sf_c_best, sf_d_best],\n",
    "               header = \"mu0, muz, omega0, omegaz, alpha0,sf_a, sf_b, sf_c, sf_d\", delimiter=',', fmt=\"%s\")\n"
   ]
  },
  {
   "cell_type": "code",
   "execution_count": 55,
   "metadata": {},
   "outputs": [],
   "source": []
  },
  {
   "cell_type": "code",
   "execution_count": 187,
   "metadata": {},
   "outputs": [
    {
     "data": {
      "image/png": "[encoded data removed]",
      "text/plain": [
       "<Figure size 720x720 with 1 Axes>"
      ]
     },
     "metadata": {
      "needs_background": "light"
     },
     "output_type": "display_data"
    }
   ],
   "source": [
    "fig, ax = plt.subplots(figsize = (10,10))\n",
    "Redshifts = np.linspace(0,10, num=100)\n",
    "test_srd = Z_SFRD.Madau_Dickinson2014(Redshifts, a=sf_a_best, b=sf_b_best, c=sf_c_best, d=sf_d_best).value # Msun year-1 Mpc-3 \n",
    "plt.ylim(0,0.2)\n",
    "plt.plot(Redshifts, test_srd)\n",
    "plt.show()\n"
   ]
  },
  {
   "cell_type": "code",
   "execution_count": null,
   "metadata": {},
   "outputs": [],
   "source": []
  }
 ],
 "metadata": {
  "kernelspec": {
   "display_name": "Python 3",
   "language": "python",
   "name": "python3"
  },
  "language_info": {
   "codemirror_mode": {
    "name": "ipython",
    "version": 3
   },
   "file_extension": ".py",
   "mimetype": "text/x-python",
   "name": "python",
   "nbconvert_exporter": "python",
   "pygments_lexer": "ipython3",
   "version": "3.7.1"
  }
 },
 "nbformat": 4,
 "nbformat_minor": 4
}
