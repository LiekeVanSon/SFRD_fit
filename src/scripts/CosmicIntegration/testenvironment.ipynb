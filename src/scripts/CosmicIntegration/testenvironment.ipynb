{
 "cells": [
  {
   "cell_type": "code",
   "execution_count": 1,
   "metadata": {},
   "outputs": [],
   "source": [
    "import numpy as np\n",
    "\n"
   ]
  },
  {
   "cell_type": "code",
   "execution_count": 2,
   "metadata": {},
   "outputs": [],
   "source": [
    "#####################################\n",
    "#####################################\n",
    "mu0_best     = 0.025\n",
    "muz_best     = -0.049\n",
    "sigma0_best  = 1.129\n",
    "sigmaz_best  = 0.048\n",
    "alpha0_best  = -1.778\n",
    "\n",
    "dpdZ_parameters = [mu0_best, muz_best, sigma0_best, sigmaz_best, alpha0_best]\n",
    "\n",
    "\n",
    "#####################################\n",
    "#####################################\n",
    "sf_a_best     = 0.017\n",
    "sf_b_best     = 1.481\n",
    "sf_c_best     = 4.452\n",
    "sf_d_best     = 5.913\n",
    "\n",
    "sfr_parameters  = [sf_a_best, sf_b_best, sf_c_best, sf_d_best]\n",
    "\n",
    "\n",
    "\n"
   ]
  },
  {
   "cell_type": "code",
   "execution_count": 8,
   "metadata": {},
   "outputs": [
    {
     "name": "stdout",
     "output_type": "stream",
     "text": [
      "[0.025, -0.049, 1.129, 0.048, -1.778]\n",
      "-1.778\n"
     ]
    }
   ],
   "source": [
    "SFRD_zZ = [dpdZ_parameters, sfr_parameters]\n",
    "print(SFRD_zZ[0])\n",
    "\n",
    "mu0, muz, sigma0, sigmaz, alpha0 = SFRD_zZ[0]\n",
    "sf_a, sf_b, sf_c, sf_d           = SFRD_zZ[1]\n",
    "\n",
    "print(alpha0 )"
   ]
  },
  {
   "cell_type": "code",
   "execution_count": null,
   "metadata": {},
   "outputs": [],
   "source": []
  }
 ],
 "metadata": {
  "kernelspec": {
   "display_name": "Python 3",
   "language": "python",
   "name": "python3"
  },
  "language_info": {
   "codemirror_mode": {
    "name": "ipython",
    "version": 3
   },
   "file_extension": ".py",
   "mimetype": "text/x-python",
   "name": "python",
   "nbconvert_exporter": "python",
   "pygments_lexer": "ipython3",
   "version": "3.6.10"
  }
 },
 "nbformat": 4,
 "nbformat_minor": 4
}
