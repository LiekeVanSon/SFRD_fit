{
 "cells": [
  {
   "cell_type": "markdown",
   "metadata": {},
   "source": [
    "# Function to fit our analytical model to the SF-gas from TNG\n",
    "\n",
    "Our fit procedure is also described in section 3 of van son et al in prep.\n",
    "\n",
    "\n"
   ]
  },
  {
   "cell_type": "code",
   "execution_count": 24,
   "metadata": {},
   "outputs": [],
   "source": [
    "import h5py as h5\n",
    "import numpy as np\n",
    "import matplotlib.pyplot as plt\n",
    "import astropy.units as u\n",
    "\n",
    "from scipy import interpolate\n",
    "from scipy.optimize import minimize\n",
    "\n",
    "# from astropy.cosmology import WMAP9, z_at_value\n",
    "from astropy.cosmology import WMAP9 as cosmo# Planck18 Planck 2018\n",
    "from astropy.cosmology import z_at_value\n",
    "\n",
    "############################\n",
    "# Custom scripts\n",
    "import paths\n",
    "import get_ZdepSFRD as Z_SFRD\n",
    "import importlib\n",
    "importlib.reload(Z_SFRD)\n",
    "\n",
    "Cosmol_sim_location = paths.data / \"SFRMetallicityFromGasTNG100.hdf5\"\n"
   ]
  },
  {
   "cell_type": "markdown",
   "metadata": {},
   "source": [
    "# First read the TNG data \n",
    "## And convert it to a SFDR in Msun/yr/Mpc^-3\n",
    "\n",
    "***\n",
    "We will have simulation data == TNG in our case\n",
    "and model data  == our analytical function\n",
    "***\n"
   ]
  },
  {
   "cell_type": "code",
   "execution_count": 25,
   "metadata": {},
   "outputs": [],
   "source": [
    "##########################################\n",
    "# Simulated SFRD data (from TNG)\n",
    "##########################################\n",
    "## Read in the pure simulation data\n",
    "with h5.File(Cosmol_sim_location, \"r\") as f:\n",
    "    MetalBins     = f[\"MetalBins\"][:]\n",
    "    Lookbacktimes = f[\"Lookbacktimes\"][:]\n",
    "    BoxSfr        = f[\"Sfr\"][:]\n",
    "# Convert SFR from sfr/box to sfr Mpc-3\n",
    "littleh  = 0.6774\n",
    "Rbox     = 75/littleh #75Mpc/h with h=0.6774\n",
    "Sim_SFRD = BoxSfr / Rbox**3 *u.Mpc**-3\n",
    "Sim_SFRD = BoxSfr#Sim_SFRD.value\n",
    "\n",
    "## Adjust what metallicities to include \n",
    "# The minimum metallicity in COMPAS is 10^-4, so there is no\n",
    "# use in fitting to the 10^-7 metallicity tail\n",
    "Sim_center_Zbin = (MetalBins[:-1] + MetalBins[1:])/2.\n",
    "low_bound_Z_ind  = np.where(Sim_center_Zbin > 1e-5)[0]# index of Sim_center_Zbin, where Z > 1e-5\n",
    "tofit_Sim_metals = Sim_center_Zbin[low_bound_Z_ind]   \n",
    "\n",
    "## Reverse the time axis of the SFRD and lookback time for the fit\n",
    "tofit_Sim_SFRD      = Sim_SFRD[:,low_bound_Z_ind][::-1]\n",
    "tofit_Sim_lookbackt = Lookbacktimes[::-1] \n",
    "\n",
    "## Convert lookback times to redshifts\n",
    "# the last value of Lookbacktimes = 0, which is problematic for z calculation\n",
    "redshifts_Sim = [z_at_value(cosmo.lookback_time,t*u.Gyr) for t in Lookbacktimes[:-1]] \n",
    "redshifts_Sim.append(0) # put redshift zero back at the end\n",
    "redshifts_Sim = np.array(redshifts_Sim)\n"
   ]
  },
  {
   "cell_type": "markdown",
   "metadata": {},
   "source": [
    "# Interpolate the TNG data\n",
    "\n",
    "Using scipy interpolate\n",
    "https://docs.scipy.org/doc/scipy/reference/generated/scipy.interpolate.interp2d.html\n",
    "\n",
    "f = interpolate.interp2d(x, y, z)\n",
    "\n"
   ]
  },
  {
   "cell_type": "code",
   "execution_count": 26,
   "metadata": {},
   "outputs": [
    {
     "name": "stdout",
     "output_type": "stream",
     "text": [
      "np.shape(Lookbacktimes_interp_Sim) (202,) np.shape(metal_interp_Sim) (30,) np.shape(SFRD_interp_Sim) (30, 202)\n"
     ]
    }
   ],
   "source": [
    "#########################################\n",
    "# Interpolate the simulation data\n",
    "f_interp = interpolate.interp2d(tofit_Sim_lookbackt, tofit_Sim_metals, tofit_Sim_SFRD.T, kind='cubic')\n",
    "\n",
    "#########################################\n",
    "# Retrieve values at higher res regular intervals\n",
    "redshift_interp_Sim         = np.arange(0, 10.1, 0.05)\n",
    "Lookbacktimes_interp_Sim    = [cosmo.lookback_time(z).value for z in redshift_interp_Sim]\n",
    "\n",
    "log_tofit_Sim_metals        = np.log10(tofit_Sim_metals)\n",
    "metal_interp_Sim            = tofit_Sim_metals#np.logspace(min(log_tofit_Sim_metals), max(log_tofit_Sim_metals), num = 50) \n",
    "# !! Finding the best fit will become slower as you increase the metallicity resolution\n",
    "\n",
    "SFRD_interp_Sim             = f_interp(Lookbacktimes_interp_Sim,metal_interp_Sim)\n",
    "\n",
    "print('np.shape(Lookbacktimes_interp_Sim)', np.shape(Lookbacktimes_interp_Sim),'np.shape(metal_interp_Sim)',\n",
    "      np.shape(metal_interp_Sim), 'np.shape(SFRD_interp_Sim)', np.shape(SFRD_interp_Sim) )\n"
   ]
  },
  {
   "cell_type": "code",
   "execution_count": 34,
   "metadata": {
    "scrolled": false
   },
   "outputs": [
    {
     "name": "stdout",
     "output_type": "stream",
     "text": [
      "min log_simZ -11.302745876821538 max log_simZ -0.17358459401698478 step logZ 0.3837641821656739\n",
      "(30,)\n",
      "Shape model:  (202, 30)\n",
      "shape simulation: (202, 30)\n",
      "shape simulation_redshifts (202,)\n",
      "-28.71942703372405 nan solMass / (Mpc3 yr)\n",
      "np.amin(res_squared) nan\n"
     ]
    },
    {
     "data": {
      "text/plain": [
       "0"
      ]
     },
     "execution_count": 34,
     "metadata": {},
     "output_type": "execute_result"
    }
   ],
   "source": [
    "\n",
    "importlib.reload(Z_SFRD)\n",
    "\n",
    "\n",
    "##################################################\n",
    "# muz =-0.09, mu0 =0.026, omega =1.9, alpha=-3.3\n",
    "##################################################\n",
    "def calc_chi_square(simulation_SFRD = [], simulation_metals = [], simulation_redshifts = [],  \n",
    "                    mu_0_list = 0.026, muz_list =-0.09, omega0_list = 1.9, omegaz_list = 1.9, alpha_list =-3.3,\n",
    "                    sf_a =0.01 , sf_b=2.6, sf_c=3.2 , sf_d=6.2):\n",
    "    \"\"\"\n",
    "    Calculate the distribution of metallicities at different redshifts using a log skew normal distribution\n",
    "    that is basically a skew normal distribution, but then with the random variable x = ln(Z)\n",
    "\n",
    "    NOTE: This assumes that metallicities in COMPAS are drawn from a flat in log distribution\n",
    "\n",
    "    Args:\n",
    "        fit_metals              --> [float]          metals used for fitt\n",
    "        Redshifts               --> [float]          redshihts used to fit\n",
    "        simulation_SFRD           --> [float]        cosmological simulation SFRD to fit to\n",
    "        \n",
    "        mu_0_list    = -0.23    --> [float]          location (mean in normal) at redshift 0\n",
    "        muz_list = 0.035    --> [float]          redshift evolution of the location\n",
    "        omega0_list  = 0.39     --> [float]          Scale at redshift 0 (variance in normal)\n",
    "        omegaz_list  = 0.0      --> [float]          redshift evolution of Scale (variance in normal)\n",
    "        alpha_list   = 0.0      --> [float]          shape (skewness, alpha = 0 retrieves normal dist)\n",
    "\n",
    "        sf_a                    --> [float]          SFR(z) parameter (shape of Madau & Dickenson 2014)\n",
    "        sf_b                    --> [float]          SFR(z) parameter (shape of Madau & Dickenson 2014)\n",
    "        sf_c                    --> [float]          SFR(z) parameter (shape of Madau & Dickenson 2014)\n",
    "        sf_d                    --> [float]          SFR(z) parameter (shape of Madau & Dickenson 2014)\n",
    "\n",
    "    Returns:\n",
    "        tot_chi_square          --> [float ] \n",
    "    \"\"\"\n",
    "    \n",
    "    \"\"\"\n",
    "    ######################################\n",
    "\n",
    "    \"\"\"  \n",
    "    #print('muz_list', muz_list, 'mu_0_list',mu_0_list, 'omega0_list',omega0_list,'omegaz_list',omegaz_list, 'alpha_list',alpha_list,\n",
    "    #      'sf_a', sf_a, 'sf_b', sf_b, 'sf_c', sf_c, 'sf_d', sf_d)\n",
    "    \n",
    "    log_simZ = np.log(simulation_metals)\n",
    "        \n",
    "    #####################################\n",
    "    # Get the SFR\n",
    "    # Madau & Fragos 2017: a=0.01, b=2.6, c=3.2,  d=6.2\n",
    "    sfr = Z_SFRD.Madau_Dickinson2014(simulation_redshifts, a=sf_a, b=sf_b, c=sf_c, d=sf_d) # Msun year-1 Mpc-3 \n",
    "\n",
    "    \n",
    "    print('min log_simZ', min(log_simZ) , 'max log_simZ', max(log_simZ),'step logZ', np.diff(log_simZ)[0]) \n",
    "    # Get dPdZ \n",
    "    dPdlogZ, metallicities, step_logZ, p_draw_metallicity = \\\n",
    "                    Z_SFRD.skew_metallicity_distribution(simulation_redshifts, mu_z = muz_list, mu_0 = mu_0_list,\n",
    "                                                         omega_0= omega0_list, omega_z=omegaz_list, alpha = alpha_list,\n",
    "                                                         min_logZ=min(log_simZ), max_logZ=max(log_simZ), step_logZ =np.diff(log_simZ)[0])\n",
    "        \n",
    "    log_fit_metallicities = np.log10(simulation_metals)\n",
    "    step_fit_logZ         = np.diff(log_fit_metallicities)[0]\n",
    "    \n",
    "    ######################################\n",
    "    # For each redshift in the TNG data:\n",
    "    tot_chi_square = 0\n",
    "    \n",
    "    print(np.shape(dPdlogZ[0,:])  )\n",
    "    \n",
    "    model = sfr[:,np.newaxis] * dPdlogZ\n",
    "    # Model comes in dP/dlogZ, so should your sim-data \n",
    "    sim   = simulation_SFRD/step_fit_logZ  #\n",
    "\n",
    "    print('Shape model: ', np.shape(model))\n",
    "    print('shape simulation:', np.shape(sim))\n",
    "    print('shape simulation_redshifts', np.shape(simulation_redshifts))\n",
    "    \n",
    "    print(np.amin(sim), np.amin(model) )\n",
    "    \n",
    "    res_squared = (sim - model.value)**2\n",
    "    print('np.amin(res_squared)', np.amin(res_squared))\n",
    "    \n",
    "    # Divide over the sum of the model at each redshift,\n",
    "    # this reduces the contribution from high sfr redshifts, \n",
    "    # and increases the weight where sfr is low\n",
    "    chi_square  = (res_squared)#/np.sum(model, axis = 0) \n",
    "    \n",
    "    \n",
    "#     for redshift_i in range(len(redshifts)):\n",
    "#         #print(redshift_i, 'at redshift', redshifts[redshift_i])\n",
    "#         ######################################\n",
    "#         # Now the SFRD = sfr x dPdZ\n",
    "#         model_SFRD = sfr[redshift_i] *dPdlogZ[redshift_i,:] # Msun year-1 Mpc-3 \n",
    "\n",
    "#         # Model comes in dP/dlogZ, so should your sim-data \n",
    "#         sim   = simulation_SFRD[redshift_i,:]/step_fit_logZ  # \n",
    "#         model = model_SFRD.value \n",
    "        \n",
    "#         ###################\n",
    "#         # Zero values are troublesome in Chi_squared!\n",
    "#         # only fit where sim > x \n",
    "#         common_bool = np.logical_and(model > 1e-11, sim > 1e-11)\n",
    "#         model       = model[common_bool]\n",
    "#         sim         = sim[common_bool]\n",
    "\n",
    "#         ###################\n",
    "#         # Actual CHI_squared\n",
    "#         res_squared = (sim - model )**2\n",
    "#         chi_square  = (res_squared)/np.sum(model) \n",
    "        \n",
    "#         tot_chi_square += np.sum(chi_square, axis = -1)\n",
    "\n",
    "\n",
    "    ######################################\n",
    "    # Minimum Chi_squared taking all redshift into aaccount\n",
    "    return tot_chi_square\n",
    "\n",
    "\n",
    "calc_chi_square(simulation_SFRD = SFRD_interp_Sim.T, \n",
    "                simulation_metals = metal_interp_Sim, \n",
    "                simulation_redshifts = redshift_interp_Sim)\n",
    "    "
   ]
  },
  {
   "cell_type": "markdown",
   "metadata": {},
   "source": [
    "# Run your chi square calculations\n",
    "\n",
    "## and leave the refinement up to scipy minimize"
   ]
  },
  {
   "cell_type": "code",
   "execution_count": 22,
   "metadata": {
    "scrolled": true
   },
   "outputs": [],
   "source": [
    "#################################################################\n",
    "## Function wrapper to minimize the Chi_square\n",
    "#################################################################\n",
    "def test_chi(x0 = [-0.09, 0.026, 1.9, 0.1, -3.3,0.01, 2.6, 3.2, 6.2] ):\n",
    "    chi_square_matix = calc_chi_square(simulation_SFRD = SFRD_interp_Sim.T, simulation_metals = metal_interp_Sim, simulation_redshifts = redshift_interp_Sim, \n",
    "                                       muz_list =x0[0], mu_0_list =x0[1],omega0_list =x0[2], omegaz_list=x0[3], alpha_list =x0[4],\n",
    "                                       sf_a =x0[5], sf_b=x0[6], sf_c=x0[7], sf_d=x0[8])\n",
    "    \n",
    "    return chi_square_matix\n",
    "\n",
    "\n",
    "# BEST GUESS\n",
    "x0 = np.array([-0.15, 0.026, 1.1, 0.1, -3.3, 0.01, 2.6, 3.2, 6.2])\n",
    "# FIT\n",
    "res = minimize(test_chi, x0= x0, method ='nelder-mead')#, options = {'maxiter': 1000})\n",
    "\n",
    "\n"
   ]
  },
  {
   "cell_type": "code",
   "execution_count": 23,
   "metadata": {},
   "outputs": [
    {
     "name": "stdout",
     "output_type": "stream",
     "text": [
      "True Optimization terminated successfully. 223\n",
      "\n",
      "BEST FITTING PARAMETERS:\n",
      "muz =0.03602246630090761, mu0 =0.01592132895133614, sigma_0 =-3.08953148136037e-06, sigma_z =0.13271584753183496, alpha=-0.4050113535867619\n",
      "sf_a =0.016725313392901585, sf_b =6.114448161615444, sf_c =8.657941945740824, sf_d =1.8775689630761803\n"
     ]
    }
   ],
   "source": [
    "print(res.success, res.message, res.nit)\n",
    "muz_best, mu0_best, omega0_best, omegaz_best, alpha_best = res.x[0], res.x[1], res.x[2], res.x[3],res.x[4]\n",
    "sf_a_best, sf_b_best, sf_c_best, sf_d_best    = res.x[5], res.x[6], res.x[7], res.x[8] \n",
    "\n",
    "print('\\nBEST FITTING PARAMETERS:')\n",
    "print('muz =%s, mu0 =%s, omega_0 =%s, omega_z =%s, alpha=%s'% (muz_best, mu0_best, omega0_best, omegaz_best, alpha_best) )\n",
    "print('sf_a =%s, sf_b =%s, sf_c =%s, sf_d =%s'% (sf_a_best, sf_b_best, sf_c_best, sf_d_best) )\n",
    "\n"
   ]
  },
  {
   "cell_type": "code",
   "execution_count": null,
   "metadata": {},
   "outputs": [],
   "source": []
  },
  {
   "cell_type": "code",
   "execution_count": null,
   "metadata": {},
   "outputs": [],
   "source": []
  },
  {
   "cell_type": "code",
   "execution_count": null,
   "metadata": {},
   "outputs": [],
   "source": []
  },
  {
   "cell_type": "code",
   "execution_count": 24,
   "metadata": {},
   "outputs": [],
   "source": [
    "if res.success:\n",
    "    np.savetxt(paths.data / 'test_best_fit_parameters.txt', (mu0_best, muz_best, omega0_best, omegaz_best, alpha_best,sf_a_best, sf_b_best, sf_c_best, sf_d_best),fmt=\"%s\")\n"
   ]
  },
  {
   "cell_type": "code",
   "execution_count": null,
   "metadata": {},
   "outputs": [],
   "source": []
  }
 ],
 "metadata": {
  "kernelspec": {
   "display_name": "Python 3",
   "language": "python",
   "name": "python3"
  },
  "language_info": {
   "codemirror_mode": {
    "name": "ipython",
    "version": 3
   },
   "file_extension": ".py",
   "mimetype": "text/x-python",
   "name": "python",
   "nbconvert_exporter": "python",
   "pygments_lexer": "ipython3",
   "version": "3.7.1"
  }
 },
 "nbformat": 4,
 "nbformat_minor": 4
}
